{
  "nbformat": 4,
  "nbformat_minor": 0,
  "metadata": {
    "colab": {
      "name": "AREEJ’S CODE",
      "provenance": [],
      "collapsed_sections": [],
      "include_colab_link": true
    },
    "kernelspec": {
      "name": "python3",
      "display_name": "Python 3"
    }
  },
  "cells": [
    {
      "cell_type": "markdown",
      "metadata": {
        "id": "view-in-github",
        "colab_type": "text"
      },
      "source": [
        "<a href=\"https://colab.research.google.com/github/Awsome-Areej/Classes/blob/master/AREEJ%E2%80%99S_CODE.ipynb\" target=\"_parent\"><img src=\"https://colab.research.google.com/assets/colab-badge.svg\" alt=\"Open In Colab\"/></a>"
      ]
    },
    {
      "cell_type": "code",
      "metadata": {
        "id": "3odUz1FS2858",
        "colab_type": "code",
        "colab": {}
      },
      "source": [
        "def printer(word, n):\n",
        "  for i in range(n):\n",
        "    print(word)"
      ],
      "execution_count": 0,
      "outputs": []
    },
    {
      "cell_type": "code",
      "metadata": {
        "id": "8L3J7R4F3DTg",
        "colab_type": "code",
        "outputId": "50f1c422-c68a-4b36-d4af-600ac3488810",
        "colab": {
          "base_uri": "https://localhost:8080/",
          "height": 35
        }
      },
      "source": [
        "printer(\"hey\", 1)"
      ],
      "execution_count": 0,
      "outputs": [
        {
          "output_type": "stream",
          "text": [
            "hey\n"
          ],
          "name": "stdout"
        }
      ]
    },
    {
      "cell_type": "code",
      "metadata": {
        "id": "JJz89EkS3HZM",
        "colab_type": "code",
        "colab": {}
      },
      "source": [
        "def compare(n, m):\n",
        "  if n > m:\n",
        "    print (n) \n",
        "  elif n == m:\n",
        "    print (\"equal\")\n",
        "  else:\n",
        "    print (m)"
      ],
      "execution_count": 0,
      "outputs": []
    },
    {
      "cell_type": "code",
      "metadata": {
        "id": "UNTjpOeP3wrF",
        "colab_type": "code",
        "colab": {}
      },
      "source": [
        "def multiplication(n, a):\n",
        "  print (n*a)"
      ],
      "execution_count": 0,
      "outputs": []
    },
    {
      "cell_type": "code",
      "metadata": {
        "id": "dpc-YhFf4w7p",
        "colab_type": "code",
        "outputId": "d9349b68-738d-4aee-ae44-19526e898316",
        "colab": {
          "base_uri": "https://localhost:8080/",
          "height": 35
        }
      },
      "source": [
        "multiplication(15, 20)"
      ],
      "execution_count": 0,
      "outputs": [
        {
          "output_type": "stream",
          "text": [
            "300\n"
          ],
          "name": "stdout"
        }
      ]
    },
    {
      "cell_type": "code",
      "metadata": {
        "id": "SpbC2qeu5G_I",
        "colab_type": "code",
        "colab": {}
      },
      "source": [
        "def something(a):\n",
        "  result = 1\n",
        "  for areej in range (1, a+1):\n",
        "    result = result *areej\n",
        "  return result "
      ],
      "execution_count": 0,
      "outputs": []
    },
    {
      "cell_type": "code",
      "metadata": {
        "id": "EwNeJ0uF5kHl",
        "colab_type": "code",
        "colab": {}
      },
      "source": [
        "def answer():\n",
        "  q = input (\"Question\")\n",
        "   \n",
        "  if q == \"kung fu\":\n",
        "    print (\"No\")\n",
        "  elif q == \"movie\":\n",
        "    print (\"yes\")\n",
        "  elif q == \"cars\":\n",
        "    print (\"No\")\n",
        "  elif q == \"video games\":\n",
        "    print (\"yes\")\n",
        "  else:\n",
        "    print (\"???\")\n"
      ],
      "execution_count": 0,
      "outputs": []
    },
    {
      "cell_type": "code",
      "metadata": {
        "id": "xPvLp-KD7XES",
        "colab_type": "code",
        "colab": {}
      },
      "source": [
        "def answer2():\n",
        "  a = input (\"Question\")\n",
        "  \n",
        "  if a == \"kung fu\":\n",
        "    print (\"yes\")\n",
        "  elif a == \"movie\":\n",
        "    print (\"yes\")\n",
        "  elif a == \"cars\":\n",
        "    print (\"no\")\n",
        "  elif a == \"video games\":\n",
        "    print (\"yes\")\n",
        "  elif a == \"coding\":\n",
        "    print (\"yes\")\n",
        "  elif a == \"avacado\":\n",
        "    print (\"no\")\n",
        "  elif a == \"try not to laugh\":\n",
        "    print (\"yes\")\n",
        "  elif a ==  \"texting\":\n",
        "    print (\"yes\")\n",
        "  elif a == \"facetime\":\n",
        "    print (\"yes\")\n",
        "  elif a == \"TVO KIDS\":\n",
        "    print (\"no\")\n",
        "  elif a == \"disney plus\":\n",
        "    print (\"yes\")\n",
        "  else:\n",
        "    for areej in range(1):\n",
        "      print (\"???????????????????????????????????????????????????????????????????\")"
      ],
      "execution_count": 0,
      "outputs": []
    },
    {
      "cell_type": "code",
      "metadata": {
        "id": "hpFRhObD7cSG",
        "colab_type": "code",
        "outputId": "83612510-7b04-4818-edd0-c684c1e410e8",
        "colab": {
          "base_uri": "https://localhost:8080/",
          "height": 51
        }
      },
      "source": [
        "answer2()"
      ],
      "execution_count": 3,
      "outputs": [
        {
          "output_type": "stream",
          "text": [
            "QuestionTVO KIDS\n",
            "no\n"
          ],
          "name": "stdout"
        }
      ]
    },
    {
      "cell_type": "code",
      "metadata": {
        "id": "51sfXgvT0wtY",
        "colab_type": "code",
        "colab": {}
      },
      "source": [
        "def DATETIME():\n",
        "  !date"
      ],
      "execution_count": 0,
      "outputs": []
    },
    {
      "cell_type": "code",
      "metadata": {
        "id": "A0wtqcdq1EJJ",
        "colab_type": "code",
        "outputId": "10ca5fd4-9fbe-4031-9ae6-278f7b670b9d",
        "colab": {
          "base_uri": "https://localhost:8080/",
          "height": 35
        }
      },
      "source": [
        "DATETIME()"
      ],
      "execution_count": 0,
      "outputs": [
        {
          "output_type": "stream",
          "text": [
            "Mon Jan  6 05:05:51 UTC 2020\n"
          ],
          "name": "stdout"
        }
      ]
    },
    {
      "cell_type": "code",
      "metadata": {
        "id": "RrC8lCYZ1JyN",
        "colab_type": "code",
        "colab": {}
      },
      "source": [
        "class Pokemon:\n",
        "  def __init__(self):\n",
        "    self.pname=None\n",
        "    self.pattacks=None\n",
        "    self.ptype=None \n",
        "    \n",
        "  def name(self, pname):\n",
        "    self.pname=pname \n",
        "  \n",
        "  def attacks(self, pattacks):\n",
        "    self.pattacks=pattacks\n",
        "  \n",
        "  def type(self, ptype):\n",
        "    self.ptype=ptype\n",
        "  \n",
        "  def info(self):\n",
        "    print (\"name=\" + self.pname)\n",
        "    print(\"attacks=\"+ str(self.pattacks))\n",
        "    print(\"type=\" + self.ptype)"
      ],
      "execution_count": 0,
      "outputs": []
    },
    {
      "cell_type": "code",
      "metadata": {
        "id": "nGC96ciH19J1",
        "colab_type": "code",
        "colab": {}
      },
      "source": [
        "pikachu=Pokemon()"
      ],
      "execution_count": 0,
      "outputs": []
    },
    {
      "cell_type": "code",
      "metadata": {
        "id": "TFHDk3u52fa1",
        "colab_type": "code",
        "colab": {}
      },
      "source": [
        "pikachu.name(\"Pikachu\")"
      ],
      "execution_count": 0,
      "outputs": []
    },
    {
      "cell_type": "code",
      "metadata": {
        "id": "GrJw0P_A3NCp",
        "colab_type": "code",
        "colab": {}
      },
      "source": [
        "pikachu.attacks([\"thunder\", \"thunderbolt\", \"quick attack\", \"iron tail\", \"electroweb\", \"electroball\"])"
      ],
      "execution_count": 0,
      "outputs": []
    },
    {
      "cell_type": "code",
      "metadata": {
        "id": "kSDeN6Ek3oeq",
        "colab_type": "code",
        "colab": {}
      },
      "source": [
        "pikachu.type(\"electric\")"
      ],
      "execution_count": 0,
      "outputs": []
    },
    {
      "cell_type": "code",
      "metadata": {
        "id": "9ggEz8SA3ys8",
        "colab_type": "code",
        "outputId": "6e7a22c9-cbc5-4be5-ac07-f6651fa69c41",
        "colab": {
          "base_uri": "https://localhost:8080/",
          "height": 68
        }
      },
      "source": [
        "pikachu.info()"
      ],
      "execution_count": 9,
      "outputs": [
        {
          "output_type": "stream",
          "text": [
            "name=Pikachu\n",
            "attacks=['thunder', 'thunderbolt', 'quick attack', 'iron tail', 'electroweb', 'electroball']\n",
            "type=electric\n"
          ],
          "name": "stdout"
        }
      ]
    },
    {
      "cell_type": "code",
      "metadata": {
        "id": "johJ35O833Qj",
        "colab_type": "code",
        "colab": {}
      },
      "source": [
        "raichu=Pokemon()"
      ],
      "execution_count": 0,
      "outputs": []
    },
    {
      "cell_type": "code",
      "metadata": {
        "id": "KlhobOan4m0K",
        "colab_type": "code",
        "colab": {}
      },
      "source": [
        "raichu.name(\"Raichu\")"
      ],
      "execution_count": 0,
      "outputs": []
    },
    {
      "cell_type": "code",
      "metadata": {
        "id": "s_15vV694qNn",
        "colab_type": "code",
        "colab": {}
      },
      "source": [
        "raichu.attacks([\"thunder\", \"thunderbolt\", \"quick attack\", \"iron tail\", \"electroweb\", \"electroball\"])"
      ],
      "execution_count": 0,
      "outputs": []
    },
    {
      "cell_type": "code",
      "metadata": {
        "id": "xPkAJaMT4-tv",
        "colab_type": "code",
        "colab": {}
      },
      "source": [
        "class bank:\n",
        "  def __init__(self):\n",
        "    self.usern= None\n",
        "    self.accountn= None\n",
        "    self.mamount= None\n",
        "    self.abalance= None\n",
        "  def user_name(self, usern):\n",
        "    self.usern = usern\n",
        "\n",
        "  def account_number(self, accountn):\n",
        "    accountn = randint(1000000000, 9999999999) \n",
        "    print (accountn)\n",
        "\n",
        "  def balance(self, abalance):\n",
        "    self.abalance = abalance\n",
        "    print (\"Your balance is $\" + str(abalance))\n",
        "\n",
        "  def withdrawl(self, mwithdrawl):\n",
        "    self.abalance = self.abalance - mwithdrawl\n",
        "    print (\"Your new balance is $\" + str(self.abalance))\n"
      ],
      "execution_count": 0,
      "outputs": []
    },
    {
      "cell_type": "code",
      "metadata": {
        "id": "yeUOoRIPpnO4",
        "colab_type": "code",
        "colab": {}
      },
      "source": [
        "a1= bank()"
      ],
      "execution_count": 0,
      "outputs": []
    },
    {
      "cell_type": "code",
      "metadata": {
        "id": "ES8InvM3rGFj",
        "colab_type": "code",
        "colab": {}
      },
      "source": [
        "a1.user_name(\"Raouf Dridi\")"
      ],
      "execution_count": 0,
      "outputs": []
    },
    {
      "cell_type": "code",
      "metadata": {
        "id": "yl_t1_t1r43b",
        "colab_type": "code",
        "outputId": "48233f14-f858-4d29-ad51-4d8cd5fa991c",
        "colab": {
          "base_uri": "https://localhost:8080/",
          "height": 34
        }
      },
      "source": [
        "a1.balance(1000)"
      ],
      "execution_count": 16,
      "outputs": [
        {
          "output_type": "stream",
          "text": [
            "Your balance is $1000\n"
          ],
          "name": "stdout"
        }
      ]
    },
    {
      "cell_type": "code",
      "metadata": {
        "id": "zZamfEpwsZfi",
        "colab_type": "code",
        "outputId": "702a8664-3ed1-4a85-b87a-3fe16256c42f",
        "colab": {
          "base_uri": "https://localhost:8080/",
          "height": 34
        }
      },
      "source": [
        "a1.withdrawl(400)"
      ],
      "execution_count": 17,
      "outputs": [
        {
          "output_type": "stream",
          "text": [
            "Your new balance is $600\n"
          ],
          "name": "stdout"
        }
      ]
    }
  ]
}